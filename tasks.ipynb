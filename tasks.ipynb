{
 "cells": [
  {
   "cell_type": "markdown",
   "metadata": {},
   "source": [
    "# Task 1: Binary Representations"
   ]
  },
  {
   "cell_type": "markdown",
   "metadata": {},
   "source": [
    "For this task, I have to create certain functions and demonstrate their use with examples. These functions are:"
   ]
  },
  {
   "cell_type": "markdown",
   "metadata": {},
   "source": [
    "1. The function rotl(x, n=1) that rotates the bits in a 32-bit unsigned integer to the left n places."
   ]
  },
  {
   "cell_type": "code",
   "execution_count": null,
   "metadata": {},
   "outputs": [
    {
     "name": "stdout",
     "output_type": "stream",
     "text": [
      "rotl(0b10110011001011101011001100101101, 4) = 0b00110010111010110011001011011011\n"
     ]
    }
   ],
   "source": [
    "def rotl(x, n=1):\n",
    "    # Perform bitwise rotation to the left by n positions\n",
    "    return ((x << n) & 0xFFFFFFFF) | (x >> (32 - n))\n",
    "\n",
    "# Example test case:\n",
    "x = 0b10110011001011101011001100101101\n",
    "rotated = rotl(x, 4)\n",
    "print(f\"rotl(0b{x:032b}, 4) = 0b{rotated:032b}\")"
   ]
  },
  {
   "cell_type": "markdown",
   "metadata": {},
   "source": [
    "2. The function rotr(x, n=1) that rotates the bits in a 32-bit unsigned integer to the right n places."
   ]
  },
  {
   "cell_type": "code",
   "execution_count": null,
   "metadata": {},
   "outputs": [
    {
     "name": "stdout",
     "output_type": "stream",
     "text": [
      "rotr(0b10110011001011101011001100101101, 4) = 0b11011011001100101110101100110010\n"
     ]
    }
   ],
   "source": [
    "def rotr(x, n=1):\n",
    "    # Perform bitwise rotation to the right by n positions\n",
    "    return (x >> n) | ((x << (32 - n)) & 0xFFFFFFFF)\n",
    "\n",
    "# Example test case:\n",
    "x = 0b10110011001011101011001100101101\n",
    "rotated = rotr(x, 4)\n",
    "print(f\"rotr(0b{x:032b}, 4) = 0b{rotated:032b}\")"
   ]
  },
  {
   "cell_type": "markdown",
   "metadata": {},
   "source": [
    "3. The function ch(x, y, z) that chooses the bits from y where x has bits set to 1 and bits in z where x has bits set to 0."
   ]
  },
  {
   "cell_type": "code",
   "execution_count": null,
   "metadata": {},
   "outputs": [
    {
     "name": "stdout",
     "output_type": "stream",
     "text": [
      "ch(0b10101010101010101010101010101010, 0b11110000111100001111000011110000, 0b00001111000011110000111100001111) = 0b10100101101001011010010110100101\n"
     ]
    }
   ],
   "source": [
    "def ch(x, y, z):\n",
    "    # Perform the 'choose' operation based on bits of x\n",
    "    return (x & y) ^ (~x & z)\n",
    "\n",
    "# Example test case:\n",
    "x = 0b10101010101010101010101010101010\n",
    "y = 0b11110000111100001111000011110000\n",
    "z = 0b00001111000011110000111100001111\n",
    "chosen = ch(x, y, z)\n",
    "print(f\"ch(0b{x:032b}, 0b{y:032b}, 0b{z:032b}) = 0b{chosen:032b}\")"
   ]
  },
  {
   "cell_type": "markdown",
   "metadata": {},
   "source": [
    "4. The function maj(x, y, z) which takes a majority vote of the bits in x, y, and z.\n",
    "The output should have a 1 in bit position i where at least two of x, y, and z have 1's in position i.\n",
    "All other output bit positions should be 0."
   ]
  },
  {
   "cell_type": "code",
   "execution_count": null,
   "metadata": {},
   "outputs": [
    {
     "name": "stdout",
     "output_type": "stream",
     "text": [
      "maj(0b11001100110011001100110011001100, 0b10101010101010101010101010101010, 0b01111000011110000111100001111000) = 0b11101000111010001110100011101000\n"
     ]
    }
   ],
   "source": [
    "def maj(x, y, z):\n",
    "    # Majority vote between x, y, and z for each bit position\n",
    "    return (x & y) | (x & z) | (y & z)\n",
    "\n",
    "# Example test case:\n",
    "x = 0b11001100110011001100110011001100\n",
    "y = 0b10101010101010101010101010101010\n",
    "z = 0b01111000011110000111100001111000\n",
    "majority = maj(x, y, z)\n",
    "print(f\"maj(0b{x:032b}, 0b{y:032b}, 0b{z:032b}) = 0b{majority:032b}\")"
   ]
  },
  {
   "cell_type": "markdown",
   "metadata": {},
   "source": [
    "# Task 2: Hash Functions"
   ]
  },
  {
   "cell_type": "markdown",
   "metadata": {},
   "source": [
    "For this task, I was given the following hash function from The C Programming Language by Brian Kernighan and Dennis Ritchie."
   ]
  },
  {
   "cell_type": "markdown",
   "metadata": {},
   "source": [
    "```\n",
    "unsigned hash(char *s) {\n",
    "    unsigned hashval;\n",
    "    for (hashval = 0; *s != '\\0'; s++)\n",
    "        hashval = *s + 31 * hashval;\n",
    "    return hashval % 101;\n",
    "}\n",
    "```"
   ]
  },
  {
   "cell_type": "markdown",
   "metadata": {},
   "source": [
    "My task is to convert it to Python, test it, and suggest why the values 31 and 101 are used."
   ]
  },
  {
   "cell_type": "code",
   "execution_count": 32,
   "metadata": {},
   "outputs": [
    {
     "name": "stdout",
     "output_type": "stream",
     "text": [
      "Hash value for 'hello' = 17\n",
      "Hash value for 'dog' = 58\n",
      "Hash value for 'cat' = 90\n",
      "Hash value for 'test' = 86\n",
      "Hash value for 'example' = 28\n",
      "Hash value for '' = 0\n"
     ]
    }
   ],
   "source": [
    "def hash(s):\n",
    "    hashval = 0\n",
    "    for char in s:\n",
    "        hashval = ord(char) + 31 * hashval\n",
    "    return hashval % 101\n",
    "\n",
    "# Example test case:\n",
    "test = [\"hello\", \"dog\", \"cat\", \"test\", \"example\", \"\"]\n",
    "\n",
    "for s in test:\n",
    "    print(f\"Hash value for '{s}' = {hash(s)}\")"
   ]
  },
  {
   "cell_type": "markdown",
   "metadata": {},
   "source": [
    "Why the values 31 and 101 are used:\n",
    "\n",
    "31:\n",
    "The value 31 is commonly used in hash functions because it is a prime number, which helps reduce the likelihood of collisions in hash tables. It is a small prime number, which helps in spreading hash values uniformly.\n",
    "\n",
    "101:\n",
    "The value 101 is used as the modulus to ensure the hash value fits within a specific range (0 to 100)."
   ]
  },
  {
   "cell_type": "markdown",
   "metadata": {},
   "source": [
    "# Task 3: SHA256"
   ]
  },
  {
   "cell_type": "markdown",
   "metadata": {},
   "source": [
    "Write a Python function that calculates the SHA256 padding for a given file.<br>\n",
    "The function should take a file path as input.<br>\n",
    "It should print, in hex, the padding that would be applied to it.<br>\n",
    "The [specification](https://nvlpubs.nist.gov/nistpubs/FIPS/NIST.FIPS.180-4.pdf) states that the following should be appended to a message:\n",
    "\n",
    "- a1 bit;\n",
    "- enough 0 bits so the length in bits of padded message is the smallest possible multiple of 512;\n",
    "- the length in bits of the original input as a big-endian 64-bit unsigned integer.\n",
    "\n",
    "The example in the specification is a file containing the three bytes abc:\n",
    "\n",
    "01100001 01100010 01100011\n",
    "\n",
    "The output would be:\n",
    "\n",
    "80 00 00 00 00 00 00 00 00 00 00 00 00 00 00 00 00 00 00 00 00 00 00 00 00 00\n",
    "00 00 00 00 00 00 00 00 00 00 00 00 00 00 00 00 00 00 00 00 00 00 00 00 00 00\n",
    "00 00 00 00 00 00 00 00 18"
   ]
  },
  {
   "cell_type": "markdown",
   "metadata": {},
   "source": [
    "# Task 4: Prime Numbers"
   ]
  },
  {
   "cell_type": "markdown",
   "metadata": {},
   "source": [
    "Calculate the first 100 prime numbers using two different algorithms.<br>\n",
    "Any algorithms that are well-established and works correctly are okay to use.<br>\n",
    "Explain how the algorithms work."
   ]
  },
  {
   "cell_type": "markdown",
   "metadata": {},
   "source": [
    "# Task 5: Roots"
   ]
  },
  {
   "cell_type": "markdown",
   "metadata": {},
   "source": [
    "Calculate the first 32 bits of the fractional part of the square roots of the first 100 prime numbers."
   ]
  }
 ],
 "metadata": {
  "kernelspec": {
   "display_name": "Python 3",
   "language": "python",
   "name": "python3"
  },
  "language_info": {
   "codemirror_mode": {
    "name": "ipython",
    "version": 3
   },
   "file_extension": ".py",
   "mimetype": "text/x-python",
   "name": "python",
   "nbconvert_exporter": "python",
   "pygments_lexer": "ipython3",
   "version": "3.12.1"
  }
 },
 "nbformat": 4,
 "nbformat_minor": 2
}
