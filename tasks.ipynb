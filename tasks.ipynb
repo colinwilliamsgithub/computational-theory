{
 "cells": [
  {
   "cell_type": "code",
   "execution_count": 232,
   "metadata": {},
   "outputs": [],
   "source": [
    "import os\n",
    "import hashlib"
   ]
  },
  {
   "cell_type": "markdown",
   "metadata": {},
   "source": [
    "# Task 1: Binary Representations"
   ]
  },
  {
   "cell_type": "markdown",
   "metadata": {},
   "source": [
    "For this task, I have to create certain functions and demonstrate their use with examples. These functions are:"
   ]
  },
  {
   "cell_type": "markdown",
   "metadata": {},
   "source": [
    "1. The function rotl(x, n=1) that rotates the bits in a 32-bit unsigned integer to the left n places."
   ]
  },
  {
   "cell_type": "code",
   "execution_count": 233,
   "metadata": {},
   "outputs": [
    {
     "name": "stdout",
     "output_type": "stream",
     "text": [
      "rotateleft(0b10110011001011101011001100101101, 4) = 0b00110010111010110011001011011011\n"
     ]
    }
   ],
   "source": [
    "def rotateleft(x, n=1):\n",
    "    # Perform bitwise rotation to the left by n positions\n",
    "    return ((x << n) & 0xFFFFFFFF) | (x >> (32 - n))\n",
    "\n",
    "# Example test case:\n",
    "x = 0b10110011001011101011001100101101\n",
    "rotated = rotateleft(x, 4)\n",
    "print(f\"rotateleft(0b{x:032b}, 4) = 0b{rotated:032b}\")"
   ]
  },
  {
   "cell_type": "markdown",
   "metadata": {},
   "source": [
    "2. The function rotr(x, n=1) that rotates the bits in a 32-bit unsigned integer to the right n places."
   ]
  },
  {
   "cell_type": "code",
   "execution_count": 234,
   "metadata": {},
   "outputs": [
    {
     "name": "stdout",
     "output_type": "stream",
     "text": [
      "rotateright(0b10110011001011101011001100101101, 4) = 0b11011011001100101110101100110010\n"
     ]
    }
   ],
   "source": [
    "def rotateright(x, n=1):\n",
    "    # Perform bitwise rotation to the right by n positions\n",
    "    return (x >> n) | ((x << (32 - n)) & 0xFFFFFFFF)\n",
    "\n",
    "# Example test case:\n",
    "x = 0b10110011001011101011001100101101\n",
    "rotated = rotateright(x, 4)\n",
    "print(f\"rotateright(0b{x:032b}, 4) = 0b{rotated:032b}\")"
   ]
  },
  {
   "cell_type": "markdown",
   "metadata": {},
   "source": [
    "3. The function ch(x, y, z) that chooses the bits from y where x has bits set to 1 and bits in z where x has bits set to 0."
   ]
  },
  {
   "cell_type": "code",
   "execution_count": 235,
   "metadata": {},
   "outputs": [
    {
     "name": "stdout",
     "output_type": "stream",
     "text": [
      "choose(0b10101010101010101010101010101010, 0b11110000111100001111000011110000, 0b00001111000011110000111100001111) = 0b10100101101001011010010110100101\n"
     ]
    }
   ],
   "source": [
    "def choose(x, y, z):\n",
    "    # Perform the 'choose' operation based on bits of x\n",
    "    return (x & y) ^ (~x & z)\n",
    "\n",
    "# Example test case:\n",
    "x = 0b10101010101010101010101010101010\n",
    "y = 0b11110000111100001111000011110000\n",
    "z = 0b00001111000011110000111100001111\n",
    "chosen = choose(x, y, z)\n",
    "print(f\"choose(0b{x:032b}, 0b{y:032b}, 0b{z:032b}) = 0b{chosen:032b}\")"
   ]
  },
  {
   "cell_type": "markdown",
   "metadata": {},
   "source": [
    "4. The function maj(x, y, z) which takes a majority vote of the bits in x, y, and z.\n",
    "The output should have a 1 in bit position i where at least two of x, y, and z have 1's in position i.\n",
    "All other output bit positions should be 0."
   ]
  },
  {
   "cell_type": "code",
   "execution_count": 236,
   "metadata": {},
   "outputs": [
    {
     "name": "stdout",
     "output_type": "stream",
     "text": [
      "majority(0b11001100110011001100110011001100, 0b10101010101010101010101010101010, 0b01111000011110000111100001111000) = 0b11101000111010001110100011101000\n"
     ]
    }
   ],
   "source": [
    "def majority(x, y, z):\n",
    "    # Majority vote between x, y, and z for each bit position\n",
    "    return (x & y) | (x & z) | (y & z)\n",
    "\n",
    "# Example test case:\n",
    "x = 0b11001100110011001100110011001100\n",
    "y = 0b10101010101010101010101010101010\n",
    "z = 0b01111000011110000111100001111000\n",
    "majority = majority(x, y, z)\n",
    "print(f\"majority(0b{x:032b}, 0b{y:032b}, 0b{z:032b}) = 0b{majority:032b}\")"
   ]
  },
  {
   "cell_type": "markdown",
   "metadata": {},
   "source": [
    "# Task 2: Hash Functions"
   ]
  },
  {
   "cell_type": "markdown",
   "metadata": {},
   "source": [
    "For this task, I was given the following hash function from The C Programming Language by Brian Kernighan and Dennis Ritchie."
   ]
  },
  {
   "cell_type": "markdown",
   "metadata": {},
   "source": [
    "```\n",
    "unsigned hash(char *s) {\n",
    "    unsigned hashval;\n",
    "    for (hashval = 0; *s != '\\0'; s++)\n",
    "        hashval = *s + 31 * hashval;\n",
    "    return hashval % 101;\n",
    "}\n",
    "```"
   ]
  },
  {
   "cell_type": "markdown",
   "metadata": {},
   "source": [
    "My task is to convert it to Python, test it, and suggest why the values 31 and 101 are used."
   ]
  },
  {
   "cell_type": "code",
   "execution_count": 237,
   "metadata": {},
   "outputs": [
    {
     "name": "stdout",
     "output_type": "stream",
     "text": [
      "Hash value for 'hello' = 17\n",
      "Hash value for 'dog' = 58\n",
      "Hash value for 'cat' = 90\n",
      "Hash value for 'test' = 86\n",
      "Hash value for 'example' = 28\n",
      "Hash value for '' = 0\n"
     ]
    }
   ],
   "source": [
    "def hash(s):\n",
    "    hashvalue = 0\n",
    "    for char in s:\n",
    "        hashvalue = ord(char) + 31 * hashvalue\n",
    "    return hashvalue % 101\n",
    "\n",
    "# Example test case:\n",
    "test = [\"hello\", \"dog\", \"cat\", \"test\", \"example\", \"\"]\n",
    "\n",
    "for s in test:\n",
    "    print(f\"Hash value for '{s}' = {hash(s)}\")"
   ]
  },
  {
   "cell_type": "markdown",
   "metadata": {},
   "source": [
    "Why the values 31 and 101 are used:\n",
    "\n",
    "31:\n",
    "The value 31 is commonly used in hash functions because it is a prime number, which helps reduce the likelihood of collisions in hash tables. It is a small prime number, which helps in spreading hash values uniformly.\n",
    "\n",
    "101:\n",
    "The value 101 is used as the modulus to ensure the hash value fits within a specific range (0 to 100)."
   ]
  },
  {
   "cell_type": "markdown",
   "metadata": {},
   "source": [
    "# Task 3: SHA256"
   ]
  },
  {
   "cell_type": "markdown",
   "metadata": {},
   "source": [
    "For this task, I have to write a Python function that calculates the SHA256 padding for a given file.<br>\n",
    "The function should take a file path as input.<br>\n",
    "It should print, in hex, the padding that would be applied to it.<br>\n",
    "The [specification](https://nvlpubs.nist.gov/nistpubs/FIPS/NIST.FIPS.180-4.pdf) [1] states that the following should be appended to a message:\n",
    "\n",
    "- a1 bit;\n",
    "- enough 0 bits so the length in bits of padded message is the smallest possible multiple of 512;\n",
    "- the length in bits of the original input as a big-endian 64-bit unsigned integer.\n",
    "\n",
    "The example in the specification is a file containing the three bytes \"abc\":\n",
    "\n",
    "01100001 01100010 01100011\n",
    "\n",
    "The output would be:\n",
    "\n",
    "80 00 00 00 00 00 00 00 00 00 00 00 00 00 00 00 00 00 00 00 00 00 00 00 00 00\n",
    "00 00 00 00 00 00 00 00 00 00 00 00 00 00 00 00 00 00 00 00 00 00 00 00 00 00\n",
    "00 00 00 00 00 00 00 00 18"
   ]
  },
  {
   "cell_type": "code",
   "execution_count": 238,
   "metadata": {},
   "outputs": [
    {
     "name": "stdout",
     "output_type": "stream",
     "text": [
      "80 00 00 00 00 00 00 00 00 00 00 00 00 00 00 00 00 00 00 00 00 00 00 00 00 00 00 00 00 00 00 00 00 00 00 00 00 00 00 00 00 00 00 00 00 00 00 00 00 00 00 00 00 00 00 00 00 00 00 00 18\n"
     ]
    }
   ],
   "source": [
    "def sha256(file_path):\n",
    "    with open(file_path, 'rb') as f:\n",
    "        data = f.read()\n",
    "\n",
    "    original_length = len(data)\n",
    "    bit_length = original_length * 8\n",
    "\n",
    "    # Start with the 0x80 byte (the '1' bit followed by seven 0s)\n",
    "    padding = b'\\x80'\n",
    "\n",
    "    # Calculate how many zero bytes are needed to reach 56 mod 64\n",
    "    total_length = original_length + 1\n",
    "    \n",
    "    padding_zeros = (56 - total_length % 64) % 64\n",
    "\n",
    "    padding += b'\\x00' * padding_zeros\n",
    "\n",
    "    # Append the original message length as a 64-bit (8 bytes) big-endian integer\n",
    "    padding += bit_length.to_bytes(8, byteorder='big')\n",
    "\n",
    "    # Print the padding in hex format\n",
    "    print(' '.join(f'{byte:02x}' for byte in padding))\n",
    "\n",
    "# Run:\n",
    "sha256(\"task3.txt\") # Replace with the path to your file\n"
   ]
  },
  {
   "cell_type": "markdown",
   "metadata": {},
   "source": [
    "This script reads the contents of a file and computes the SHA-256 padding that would be added before hashing the data. The padding is then printed in hex format."
   ]
  },
  {
   "cell_type": "markdown",
   "metadata": {},
   "source": [
    "# Task 4: Prime Numbers"
   ]
  },
  {
   "cell_type": "markdown",
   "metadata": {},
   "source": [
    "For this task, I have to calculate the first 100 prime numbers using two different algorithms.<br>\n",
    "Any algorithms that are well-established and works correctly are okay to use.<br>\n",
    "I then have to explain how the algorithms work."
   ]
  },
  {
   "cell_type": "markdown",
   "metadata": {},
   "source": [
    "## Algorithm 1: Sieve Of Eratosthenes\n",
    "\n",
    "The Sieve of Eratosthenes works by iteratively marking the multiples of each prime starting from 2, marking them as non-prime, and continuing this process up to sqrt(n), leaving only the prime numbers unmarked.<br>\n",
    "The sieve of Eratosthenes is one of the most efficient ways to find all prime numbers smaller than n when n is smaller than 10 million or so.<br>\n",
    "(Adapted from [here](https://www.geeksforgeeks.org/sieve-of-eratosthenes/) [2])"
   ]
  },
  {
   "cell_type": "code",
   "execution_count": 239,
   "metadata": {},
   "outputs": [
    {
     "name": "stdout",
     "output_type": "stream",
     "text": [
      "  2   3   5   7  11  13  17  19  23  29\n",
      " 31  37  41  43  47  53  59  61  67  71\n",
      " 73  79  83  89  97 101 103 107 109 113\n",
      "127 131 137 139 149 151 157 163 167 173\n",
      "179 181 191 193 197 199 211 223 227 229\n",
      "233 239 241 251 257 263 269 271 277 281\n",
      "283 293 307 311 313 317 331 337 347 349\n",
      "353 359 367 373 379 383 389 397 401 409\n",
      "419 421 431 433 439 443 449 457 461 463\n",
      "467 479 487 491 499 503 509 521 523 541\n"
     ]
    }
   ],
   "source": [
    "def SieveOfEratosthenes(count):\n",
    "    # For 100 primes, 550 is sufficient\n",
    "    n = 550  \n",
    "    while True:\n",
    "        # Create sieve\n",
    "        prime = [True for _ in range(n + 1)]\n",
    "        prime[0:2] = [False, False]\n",
    "        p = 2\n",
    "        while (p * p <= n):\n",
    "            if prime[p]:\n",
    "                for i in range(p * p, n + 1, p):\n",
    "                    prime[i] = False\n",
    "            p += 1\n",
    "\n",
    "        # Collect primes in a list\n",
    "        primes = []\n",
    "        for p in range(n + 1):\n",
    "            if prime[p]:\n",
    "                primes.append(p)\n",
    "        \n",
    "        # If enough is found, break\n",
    "        if len(primes) >= count:\n",
    "            break\n",
    "\n",
    "    # Print in rows of 10 (easier to read)\n",
    "    for i in range(0, count, 10):\n",
    "        print(\" \".join(f\"{p:3d}\" for p in primes[i:i+10]))\n",
    "\n",
    "# Run:\n",
    "SieveOfEratosthenes(100)\n"
   ]
  },
  {
   "cell_type": "markdown",
   "metadata": {},
   "source": [
    "## Algorithm 2: Trial Division\n",
    "\n",
    "Trial Division is the simplest and most straightforward method to check whether a number is prime. It involves dividing the number by all smaller numbers to see if it has any divisors other than 1 and itself.<br>\n",
    "(Adapted from [here](https://www.geeksforgeeks.org/trial-division-algorithm-for-prime-factorization/) [3])"
   ]
  },
  {
   "cell_type": "code",
   "execution_count": 240,
   "metadata": {},
   "outputs": [
    {
     "name": "stdout",
     "output_type": "stream",
     "text": [
      "  2   3   5   7  11  13  17  19  23  29\n",
      " 31  37  41  43  47  53  59  61  67  71\n",
      " 73  79  83  89  97 101 103 107 109 113\n",
      "127 131 137 139 149 151 157 163 167 173\n",
      "179 181 191 193 197 199 211 223 227 229\n",
      "233 239 241 251 257 263 269 271 277 281\n",
      "283 293 307 311 313 317 331 337 347 349\n",
      "353 359 367 373 379 383 389 397 401 409\n",
      "419 421 431 433 439 443 449 457 461 463\n",
      "467 479 487 491 499 503 509 521 523 541\n"
     ]
    }
   ],
   "source": [
    "# Check if a number is a prime\n",
    "def TrialDivision(N):\n",
    "    if N < 2:\n",
    "        return 0\n",
    "    i = 2\n",
    "    k = int(N ** 0.5)\n",
    "    while i <= k:\n",
    "        if N % i == 0:\n",
    "            return 0\n",
    "        i += 1\n",
    "    return 1\n",
    "\n",
    "# Find first 100 primes\n",
    "def FindFirst100Primes():\n",
    "    primes = []\n",
    "    candidate = 2\n",
    "    while len(primes) < 100:\n",
    "        if TrialDivision(candidate):\n",
    "            primes.append(candidate)\n",
    "        candidate += 1\n",
    "\n",
    "    # Print in rows of 10 (easier to read)\n",
    "    for i in range(0, 100, 10):\n",
    "        print(\" \".join(f\"{p:3d}\" for p in primes[i:i+10]))\n",
    "\n",
    "# Run:\n",
    "FindFirst100Primes()"
   ]
  },
  {
   "cell_type": "markdown",
   "metadata": {},
   "source": [
    "# Task 5: Roots"
   ]
  },
  {
   "cell_type": "markdown",
   "metadata": {},
   "source": [
    "For this task, I have to calculate the first 32 bits of the fractional part of the square roots of the first 100 prime numbers.<br>\n",
    "For this task, I will use the Trial Division algorithm used in Task 4 above to calculate the first 100 prime numbers.<br>\n",
    "(Adapted from [here](https://github.com/ianmcloughlin/computational_theory/blob/main/materials/cube_roots.ipynb) [4])"
   ]
  },
  {
   "cell_type": "code",
   "execution_count": 241,
   "metadata": {},
   "outputs": [
    {
     "name": "stdout",
     "output_type": "stream",
     "text": [
      "Prime:   2, 32-bit fractional part of sqrt: 01101010000010011110011001100111\n",
      "Prime:   3, 32-bit fractional part of sqrt: 10111011011001111010111010000101\n",
      "Prime:   5, 32-bit fractional part of sqrt: 00111100011011101111001101110010\n",
      "Prime:   7, 32-bit fractional part of sqrt: 10100101010011111111010100111010\n",
      "Prime:  11, 32-bit fractional part of sqrt: 01010001000011100101001001111111\n",
      "Prime:  13, 32-bit fractional part of sqrt: 10011011000001010110100010001100\n",
      "Prime:  17, 32-bit fractional part of sqrt: 00011111100000111101100110101011\n",
      "Prime:  19, 32-bit fractional part of sqrt: 01011011111000001100110100011001\n",
      "Prime:  23, 32-bit fractional part of sqrt: 11001011101110111001110101011101\n",
      "Prime:  29, 32-bit fractional part of sqrt: 01100010100110100010100100101010\n",
      "Prime:  31, 32-bit fractional part of sqrt: 10010001010110010000000101011010\n",
      "Prime:  37, 32-bit fractional part of sqrt: 00010101001011111110110011011000\n",
      "Prime:  41, 32-bit fractional part of sqrt: 01100111001100110010011001100111\n",
      "Prime:  43, 32-bit fractional part of sqrt: 10001110101101000100101010000111\n",
      "Prime:  47, 32-bit fractional part of sqrt: 11011011000011000010111000001101\n",
      "Prime:  53, 32-bit fractional part of sqrt: 01000111101101010100100000011101\n",
      "Prime:  59, 32-bit fractional part of sqrt: 10101110010111111001000101010110\n",
      "Prime:  61, 32-bit fractional part of sqrt: 11001111011011001000010111010011\n",
      "Prime:  67, 32-bit fractional part of sqrt: 00101111011100110100011101111101\n",
      "Prime:  71, 32-bit fractional part of sqrt: 01101101000110000010011011001010\n",
      "Prime:  73, 32-bit fractional part of sqrt: 10001011010000111101010001010111\n",
      "Prime:  79, 32-bit fractional part of sqrt: 11100011011000001011010110010110\n",
      "Prime:  83, 32-bit fractional part of sqrt: 00011100010001010110000000000010\n",
      "Prime:  89, 32-bit fractional part of sqrt: 01101111000110010110001100110001\n",
      "Prime:  97, 32-bit fractional part of sqrt: 11011001010011101011111010110001\n",
      "Prime: 101, 32-bit fractional part of sqrt: 00001100110001001010011000010001\n",
      "Prime: 103, 32-bit fractional part of sqrt: 00100110000111011100000111110010\n",
      "Prime: 107, 32-bit fractional part of sqrt: 01011000000101011010011110111110\n",
      "Prime: 109, 32-bit fractional part of sqrt: 01110000101101111110110101100111\n",
      "Prime: 113, 32-bit fractional part of sqrt: 10100001010100010011110001101001\n",
      "Prime: 127, 32-bit fractional part of sqrt: 01000100111110010011011000110101\n",
      "Prime: 131, 32-bit fractional part of sqrt: 01110010000011011100110111111101\n",
      "Prime: 137, 32-bit fractional part of sqrt: 10110100011001110011011010011110\n",
      "Prime: 139, 32-bit fractional part of sqrt: 11001010001100100000101101110101\n",
      "Prime: 149, 32-bit fractional part of sqrt: 00110100111000001101010000101110\n",
      "Prime: 151, 32-bit fractional part of sqrt: 01001001110001111101100110111101\n",
      "Prime: 157, 32-bit fractional part of sqrt: 10000111101010111011100111110010\n",
      "Prime: 163, 32-bit fractional part of sqrt: 11000100011000111010001011111100\n",
      "Prime: 167, 32-bit fractional part of sqrt: 11101100001111111100001111110011\n",
      "Prime: 173, 32-bit fractional part of sqrt: 00100111001001110111111101101101\n",
      "Prime: 179, 32-bit fractional part of sqrt: 01100001000010111110101111110010\n",
      "Prime: 181, 32-bit fractional part of sqrt: 01110100001000001011010010011110\n",
      "Prime: 191, 32-bit fractional part of sqrt: 11010001111111011000101000110011\n",
      "Prime: 193, 32-bit fractional part of sqrt: 11100100011101110011010110010100\n",
      "Prime: 197, 32-bit fractional part of sqrt: 00001001001000011001011111110110\n",
      "Prime: 199, 32-bit fractional part of sqrt: 00011011010100110000110010010101\n",
      "Prime: 211, 32-bit fractional part of sqrt: 10000110100111010110001101000010\n",
      "Prime: 223, 32-bit fractional part of sqrt: 11101110111001010010111001001111\n",
      "Prime: 227, 32-bit fractional part of sqrt: 00010001000001110110011010001001\n",
      "Prime: 229, 32-bit fractional part of sqrt: 00100001111110111010001101111011\n",
      "Prime: 233, 32-bit fractional part of sqrt: 01000011101010111001111110110110\n",
      "Prime: 239, 32-bit fractional part of sqrt: 01110101101010011111100100011101\n",
      "Prime: 241, 32-bit fractional part of sqrt: 10000110001100000101000000011001\n",
      "Prime: 251, 32-bit fractional part of sqrt: 11010111110011011000000101110011\n",
      "Prime: 257, 32-bit fractional part of sqrt: 00000111111111100000000011111111\n",
      "Prime: 263, 32-bit fractional part of sqrt: 00110111100111110101000100111111\n",
      "Prime: 269, 32-bit fractional part of sqrt: 01100110101101100101000110101000\n",
      "Prime: 271, 32-bit fractional part of sqrt: 01110110010010101011100001000010\n",
      "Prime: 277, 32-bit fractional part of sqrt: 10100100101100000110101111100001\n",
      "Prime: 281, 32-bit fractional part of sqrt: 11000011010101111000110000010101\n",
      "Prime: 283, 32-bit fractional part of sqrt: 11010010100101100010101001010011\n",
      "Prime: 293, 32-bit fractional part of sqrt: 00011110000000111001111101000000\n",
      "Prime: 307, 32-bit fractional part of sqrt: 10000101011110110111101111101110\n",
      "Prime: 311, 32-bit fractional part of sqrt: 10100010100110111111001011011110\n",
      "Prime: 313, 32-bit fractional part of sqrt: 10110001000110100011001011101000\n",
      "Prime: 317, 32-bit fractional part of sqrt: 11001101111100110100111010000000\n",
      "Prime: 331, 32-bit fractional part of sqrt: 00110001100000110000010000100110\n",
      "Prime: 337, 32-bit fractional part of sqrt: 01011011100010010000100100101011\n",
      "Prime: 347, 32-bit fractional part of sqrt: 10100000110000000110101000010011\n",
      "Prime: 349, 32-bit fractional part of sqrt: 10101110011110011000010000101111\n",
      "Prime: 353, 32-bit fractional part of sqrt: 11001001110011011010011010001001\n",
      "Prime: 359, 32-bit fractional part of sqrt: 11110010100000011111001000111001\n",
      "Prime: 367, 32-bit fractional part of sqrt: 00101000010000010010010110010010\n",
      "Prime: 373, 32-bit fractional part of sqrt: 01010000001011100110010011011011\n",
      "Prime: 379, 32-bit fractional part of sqrt: 01110111110010011100001000010001\n",
      "Prime: 383, 32-bit fractional part of sqrt: 10010010000001001100110110011101\n",
      "Prime: 389, 32-bit fractional part of sqrt: 10111001000110111111011001100011\n",
      "Prime: 397, 32-bit fractional part of sqrt: 11101100110000111000110010011101\n",
      "Prime: 401, 32-bit fractional part of sqrt: 00000110011001010110000010010101\n",
      "Prime: 409, 32-bit fractional part of sqrt: 00111001010001111001001110000001\n",
      "Prime: 419, 32-bit fractional part of sqrt: 01111000001100000111011010010111\n",
      "Prime: 421, 32-bit fractional part of sqrt: 10000100101011100100101101111100\n",
      "Prime: 431, 32-bit fractional part of sqrt: 11000010101100101011011101010101\n",
      "Prime: 433, 32-bit fractional part of sqrt: 11001111000000111101001000001110\n",
      "Prime: 439, 32-bit fractional part of sqrt: 11110011110010111011000100010111\n",
      "Prime: 443, 32-bit fractional part of sqrt: 00001100001011010011101101001011\n",
      "Prime: 449, 32-bit fractional part of sqrt: 00110000100010101111000101100001\n",
      "Prime: 457, 32-bit fractional part of sqrt: 01100000101001111010100110011000\n",
      "Prime: 461, 32-bit fractional part of sqrt: 01111000100011011001100000010010\n",
      "Prime: 463, 32-bit fractional part of sqrt: 10000100011101101001101101000010\n",
      "Prime: 467, 32-bit fractional part of sqrt: 10011100001101001111000001100010\n",
      "Prime: 479, 32-bit fractional part of sqrt: 11100010110101010110010011000100\n",
      "Prime: 487, 32-bit fractional part of sqrt: 00010001011011010111010111111101\n",
      "Prime: 491, 32-bit fractional part of sqrt: 00101000100101001100000100000111\n",
      "Prime: 499, 32-bit fractional part of sqrt: 01010110100110110101100011000110\n",
      "Prime: 503, 32-bit fractional part of sqrt: 01101101011110110011100100111001\n",
      "Prime: 509, 32-bit fractional part of sqrt: 10001111100111111000110110111011\n",
      "Prime: 521, 32-bit fractional part of sqrt: 11010011010011110000001111001101\n",
      "Prime: 523, 32-bit fractional part of sqrt: 11011110100000110111001011101111\n",
      "Prime: 541, 32-bit fractional part of sqrt: 01000010011010000111101000111001\n"
     ]
    }
   ],
   "source": [
    "# Check if a number is a prime\n",
    "def TrialDivision(N):\n",
    "    if N < 2:\n",
    "        return 0\n",
    "    i = 2\n",
    "    k = int(N ** 0.5)\n",
    "    while i <= k:\n",
    "        if N % i == 0:\n",
    "            return 0\n",
    "        i += 1\n",
    "    return 1\n",
    "\n",
    "# Find first 100 primes\n",
    "def FindFirst100Primes():\n",
    "    primes = []\n",
    "    candidate = 2\n",
    "    while len(primes) < 100:\n",
    "        if TrialDivision(candidate):\n",
    "            primes.append(candidate)\n",
    "        candidate += 1\n",
    "    return primes\n",
    "\n",
    "primes = FindFirst100Primes()\n",
    "frac32 = []\n",
    "\n",
    "for prime in primes:\n",
    "    # Compute square root\n",
    "    root = prime ** (1 / 2)\n",
    "    # Modulo 1\n",
    "    frac = root - int(root)\n",
    "    # Move 32 bits in front of decimal point\n",
    "    frac = frac * (2 ** 32)\n",
    "    # Convert to integer\n",
    "    bits = int(frac)\n",
    "    # Append\n",
    "    frac32.append((prime, bits))\n",
    "\n",
    "# Print\n",
    "for prime, bits in frac32:\n",
    "    print(f\"Prime: {prime:3d}, 32-bit fractional part of sqrt: {bits:032b}\")\n"
   ]
  },
  {
   "cell_type": "markdown",
   "metadata": {},
   "source": [
    "# Task 6: Proof of Work"
   ]
  },
  {
   "cell_type": "markdown",
   "metadata": {},
   "source": [
    "For this task, I have to find the word(s) in the English language with the greatest number of 0 bits at the beginning of their SHA256 hash digest.<br>\n",
    "The word list I used for this task was \"words.txt\", the word list used in the emerging technologies module last semester."
   ]
  },
  {
   "cell_type": "code",
   "execution_count": 242,
   "metadata": {},
   "outputs": [
    {
     "name": "stdout",
     "output_type": "stream",
     "text": [
      "Word with the greatest number of leading zero bits:\n",
      "APPLICANT\n",
      "Maximum leading zero bits: 16\n"
     ]
    }
   ],
   "source": [
    "def leading_zero_bits(word):\n",
    "    # Get SHA256 digest as bytes\n",
    "    digest = hashlib.sha256(word.encode('utf-8')).digest()\n",
    "    \n",
    "    # Convert to binary string\n",
    "    binary_str = ''.join(f'{byte:08b}' for byte in digest)\n",
    "    \n",
    "    # Count leading zeros\n",
    "    return len(binary_str) - len(binary_str.lstrip('0'))\n",
    "\n",
    "def find_words(word_list):\n",
    "    max_zeros = 0\n",
    "    best_word = []\n",
    "\n",
    "    for word in word_list:\n",
    "        word = word.strip()\n",
    "        if not word:\n",
    "            continue\n",
    "        # Count the leading zero bits in the word's SHA-256 hash\n",
    "        zero_bits = leading_zero_bits(word)\n",
    "        # Update best word if a new max is found\n",
    "        if zero_bits > max_zeros:\n",
    "            max_zeros = zero_bits\n",
    "            best_word = [word]\n",
    "        elif zero_bits == max_zeros:\n",
    "            best_word.append(word)\n",
    "    \n",
    "    return max_zeros, best_word\n",
    "\n",
    "# Load words from a dictionary file\n",
    "with open(\"words.txt\", \"r\") as f:\n",
    "    words = f.readlines()\n",
    "\n",
    "# Find the words with the most leading zero bits\n",
    "max_zeros, best_word = find_words(words)\n",
    "\n",
    "print(\"Word with the greatest number of leading zero bits:\")\n",
    "for word in best_word:\n",
    "    print(word)\n",
    "print(f\"Maximum leading zero bits: {max_zeros}\")"
   ]
  },
  {
   "cell_type": "markdown",
   "metadata": {},
   "source": [
    "Using the \"words.txt\" word list, the word with the greatest number of leading zero bits is \"APPLICANT\", with 16 leading zero bits."
   ]
  },
  {
   "cell_type": "markdown",
   "metadata": {},
   "source": [
    "# Task 7: Turing Machines"
   ]
  },
  {
   "cell_type": "markdown",
   "metadata": {},
   "source": [
    "For this task, I have to design a Turing Machine that adds 1 to a binary number on its tape.<br>\n",
    "The machine should start at the left-most non-blank symbol.<br>\n",
    "It should treat the right-most symbol as the least significant bit.\n",
    "\n",
    "For example, suppose the following is on the tape at the start:\n",
    "\n",
    "100111\n",
    "\n",
    "The Turing machine should leave the following on the tape when it completes:\n",
    "\n",
    "101000"
   ]
  },
  {
   "cell_type": "markdown",
   "metadata": {},
   "source": [
    "# Task 8: Computational Complexity"
   ]
  },
  {
   "cell_type": "markdown",
   "metadata": {},
   "source": [
    "For this task, I have to implement bubble sort in Python, modifying it to count the number of comparisons made during sorting.<br>\n",
    "I must use this function to sort all permutations of the list:\n",
    "\n",
    "L = [1, 2, 3, 4, 5]\n",
    "\n",
    "For each permutation, I have to print the permutation itself followed by the number of comparisons required to sort it."
   ]
  },
  {
   "cell_type": "markdown",
   "metadata": {},
   "source": [
    "# References"
   ]
  },
  {
   "cell_type": "markdown",
   "metadata": {},
   "source": [
    "1. https://nvlpubs.nist.gov/nistpubs/FIPS/NIST.FIPS.180-4.pdf\n",
    "2. https://www.geeksforgeeks.org/sieve-of-eratosthenes/\n",
    "3. https://www.geeksforgeeks.org/trial-division-algorithm-for-prime-factorization/\n",
    "4. https://github.com/ianmcloughlin/computational_theory/blob/main/materials/cube_roots.ipynb"
   ]
  }
 ],
 "metadata": {
  "kernelspec": {
   "display_name": "Python 3",
   "language": "python",
   "name": "python3"
  },
  "language_info": {
   "codemirror_mode": {
    "name": "ipython",
    "version": 3
   },
   "file_extension": ".py",
   "mimetype": "text/x-python",
   "name": "python",
   "nbconvert_exporter": "python",
   "pygments_lexer": "ipython3",
   "version": "3.12.1"
  }
 },
 "nbformat": 4,
 "nbformat_minor": 2
}
