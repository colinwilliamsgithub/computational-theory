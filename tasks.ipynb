{
 "cells": [
  {
   "cell_type": "code",
   "execution_count": 1,
   "metadata": {},
   "outputs": [],
   "source": [
    "import os"
   ]
  },
  {
   "cell_type": "markdown",
   "metadata": {},
   "source": [
    "# Task 1: Binary Representations"
   ]
  },
  {
   "cell_type": "markdown",
   "metadata": {},
   "source": [
    "For this task, I have to create certain functions and demonstrate their use with examples. These functions are:"
   ]
  },
  {
   "cell_type": "markdown",
   "metadata": {},
   "source": [
    "1. The function rotl(x, n=1) that rotates the bits in a 32-bit unsigned integer to the left n places."
   ]
  },
  {
   "cell_type": "code",
   "execution_count": 2,
   "metadata": {},
   "outputs": [
    {
     "name": "stdout",
     "output_type": "stream",
     "text": [
      "rotateleft(0b10110011001011101011001100101101, 4) = 0b00110010111010110011001011011011\n"
     ]
    }
   ],
   "source": [
    "def rotateleft(x, n=1):\n",
    "    # Perform bitwise rotation to the left by n positions\n",
    "    return ((x << n) & 0xFFFFFFFF) | (x >> (32 - n))\n",
    "\n",
    "# Example test case:\n",
    "x = 0b10110011001011101011001100101101\n",
    "rotated = rotateleft(x, 4)\n",
    "print(f\"rotateleft(0b{x:032b}, 4) = 0b{rotated:032b}\")"
   ]
  },
  {
   "cell_type": "markdown",
   "metadata": {},
   "source": [
    "2. The function rotr(x, n=1) that rotates the bits in a 32-bit unsigned integer to the right n places."
   ]
  },
  {
   "cell_type": "code",
   "execution_count": 3,
   "metadata": {},
   "outputs": [
    {
     "name": "stdout",
     "output_type": "stream",
     "text": [
      "rotateright(0b10110011001011101011001100101101, 4) = 0b11011011001100101110101100110010\n"
     ]
    }
   ],
   "source": [
    "def rotateright(x, n=1):\n",
    "    # Perform bitwise rotation to the right by n positions\n",
    "    return (x >> n) | ((x << (32 - n)) & 0xFFFFFFFF)\n",
    "\n",
    "# Example test case:\n",
    "x = 0b10110011001011101011001100101101\n",
    "rotated = rotateright(x, 4)\n",
    "print(f\"rotateright(0b{x:032b}, 4) = 0b{rotated:032b}\")"
   ]
  },
  {
   "cell_type": "markdown",
   "metadata": {},
   "source": [
    "3. The function ch(x, y, z) that chooses the bits from y where x has bits set to 1 and bits in z where x has bits set to 0."
   ]
  },
  {
   "cell_type": "code",
   "execution_count": 4,
   "metadata": {},
   "outputs": [
    {
     "name": "stdout",
     "output_type": "stream",
     "text": [
      "choose(0b10101010101010101010101010101010, 0b11110000111100001111000011110000, 0b00001111000011110000111100001111) = 0b10100101101001011010010110100101\n"
     ]
    }
   ],
   "source": [
    "def choose(x, y, z):\n",
    "    # Perform the 'choose' operation based on bits of x\n",
    "    return (x & y) ^ (~x & z)\n",
    "\n",
    "# Example test case:\n",
    "x = 0b10101010101010101010101010101010\n",
    "y = 0b11110000111100001111000011110000\n",
    "z = 0b00001111000011110000111100001111\n",
    "chosen = choose(x, y, z)\n",
    "print(f\"choose(0b{x:032b}, 0b{y:032b}, 0b{z:032b}) = 0b{chosen:032b}\")"
   ]
  },
  {
   "cell_type": "markdown",
   "metadata": {},
   "source": [
    "4. The function maj(x, y, z) which takes a majority vote of the bits in x, y, and z.\n",
    "The output should have a 1 in bit position i where at least two of x, y, and z have 1's in position i.\n",
    "All other output bit positions should be 0."
   ]
  },
  {
   "cell_type": "code",
   "execution_count": 5,
   "metadata": {},
   "outputs": [
    {
     "name": "stdout",
     "output_type": "stream",
     "text": [
      "majority(0b11001100110011001100110011001100, 0b10101010101010101010101010101010, 0b01111000011110000111100001111000) = 0b11101000111010001110100011101000\n"
     ]
    }
   ],
   "source": [
    "def majority(x, y, z):\n",
    "    # Majority vote between x, y, and z for each bit position\n",
    "    return (x & y) | (x & z) | (y & z)\n",
    "\n",
    "# Example test case:\n",
    "x = 0b11001100110011001100110011001100\n",
    "y = 0b10101010101010101010101010101010\n",
    "z = 0b01111000011110000111100001111000\n",
    "majority = majority(x, y, z)\n",
    "print(f\"majority(0b{x:032b}, 0b{y:032b}, 0b{z:032b}) = 0b{majority:032b}\")"
   ]
  },
  {
   "cell_type": "markdown",
   "metadata": {},
   "source": [
    "# Task 2: Hash Functions"
   ]
  },
  {
   "cell_type": "markdown",
   "metadata": {},
   "source": [
    "For this task, I was given the following hash function from The C Programming Language by Brian Kernighan and Dennis Ritchie."
   ]
  },
  {
   "cell_type": "markdown",
   "metadata": {},
   "source": [
    "```\n",
    "unsigned hash(char *s) {\n",
    "    unsigned hashval;\n",
    "    for (hashval = 0; *s != '\\0'; s++)\n",
    "        hashval = *s + 31 * hashval;\n",
    "    return hashval % 101;\n",
    "}\n",
    "```"
   ]
  },
  {
   "cell_type": "markdown",
   "metadata": {},
   "source": [
    "My task is to convert it to Python, test it, and suggest why the values 31 and 101 are used."
   ]
  },
  {
   "cell_type": "code",
   "execution_count": 6,
   "metadata": {},
   "outputs": [
    {
     "name": "stdout",
     "output_type": "stream",
     "text": [
      "Hash value for 'hello' = 17\n",
      "Hash value for 'dog' = 58\n",
      "Hash value for 'cat' = 90\n",
      "Hash value for 'test' = 86\n",
      "Hash value for 'example' = 28\n",
      "Hash value for '' = 0\n"
     ]
    }
   ],
   "source": [
    "def hash(s):\n",
    "    hashvalue = 0\n",
    "    for char in s:\n",
    "        hashvalue = ord(char) + 31 * hashvalue\n",
    "    return hashvalue % 101\n",
    "\n",
    "# Example test case:\n",
    "test = [\"hello\", \"dog\", \"cat\", \"test\", \"example\", \"\"]\n",
    "\n",
    "for s in test:\n",
    "    print(f\"Hash value for '{s}' = {hash(s)}\")"
   ]
  },
  {
   "cell_type": "markdown",
   "metadata": {},
   "source": [
    "Why the values 31 and 101 are used:\n",
    "\n",
    "31:\n",
    "The value 31 is commonly used in hash functions because it is a prime number, which helps reduce the likelihood of collisions in hash tables. It is a small prime number, which helps in spreading hash values uniformly.\n",
    "\n",
    "101:\n",
    "The value 101 is used as the modulus to ensure the hash value fits within a specific range (0 to 100)."
   ]
  },
  {
   "cell_type": "markdown",
   "metadata": {},
   "source": [
    "# Task 3: SHA256"
   ]
  },
  {
   "cell_type": "markdown",
   "metadata": {},
   "source": [
    "For this task, I have to write a Python function that calculates the SHA256 padding for a given file.<br>\n",
    "The function should take a file path as input.<br>\n",
    "It should print, in hex, the padding that would be applied to it.<br>\n",
    "The [specification](https://nvlpubs.nist.gov/nistpubs/FIPS/NIST.FIPS.180-4.pdf) states that the following should be appended to a message:\n",
    "\n",
    "- a1 bit;\n",
    "- enough 0 bits so the length in bits of padded message is the smallest possible multiple of 512;\n",
    "- the length in bits of the original input as a big-endian 64-bit unsigned integer.\n",
    "\n",
    "The example in the specification is a file containing the three bytes \"abc\":\n",
    "\n",
    "01100001 01100010 01100011\n",
    "\n",
    "The output would be:\n",
    "\n",
    "80 00 00 00 00 00 00 00 00 00 00 00 00 00 00 00 00 00 00 00 00 00 00 00 00 00\n",
    "00 00 00 00 00 00 00 00 00 00 00 00 00 00 00 00 00 00 00 00 00 00 00 00 00 00\n",
    "00 00 00 00 00 00 00 00 18"
   ]
  },
  {
   "cell_type": "code",
   "execution_count": 7,
   "metadata": {},
   "outputs": [
    {
     "name": "stdout",
     "output_type": "stream",
     "text": [
      "80 00 00 00 00 00 00 00 00 00 00 00 00 00 00 00 00 00 00 00 00 00 00 00 00 00 00 00 00 00 00 00 00 00 00 00 00 00 00 00 00 00 00 00 00 00 00 00 00 00 00 00 00 00 00 00 00 00 00 00 18\n"
     ]
    }
   ],
   "source": [
    "def sha256(file_path):\n",
    "    with open(file_path, 'rb') as f:\n",
    "        data = f.read()\n",
    "\n",
    "    original_length = len(data)\n",
    "    bit_length = original_length * 8\n",
    "\n",
    "    # Start with the 0x80 byte (the '1' bit followed by seven 0s)\n",
    "    padding = b'\\x80'\n",
    "\n",
    "    # Calculate how many zero bytes are needed to reach 56 mod 64\n",
    "    total_length = original_length + 1\n",
    "    \n",
    "    padding_zeros = (56 - total_length % 64) % 64\n",
    "\n",
    "    padding += b'\\x00' * padding_zeros\n",
    "\n",
    "    # Append the original message length as a 64-bit (8 bytes) big-endian integer\n",
    "    padding += bit_length.to_bytes(8, byteorder='big')\n",
    "\n",
    "    # Print the padding in hex format\n",
    "    print(' '.join(f'{byte:02x}' for byte in padding))\n",
    "\n",
    "sha256(\"task3.txt\") # Replace with the path to your file\n"
   ]
  },
  {
   "cell_type": "markdown",
   "metadata": {},
   "source": [
    "This script reads the contents of a file and computes the SHA-256 padding that would be added before hashing the data. The padding is then printed in hex format."
   ]
  },
  {
   "cell_type": "markdown",
   "metadata": {},
   "source": [
    "# Task 4: Prime Numbers"
   ]
  },
  {
   "cell_type": "markdown",
   "metadata": {},
   "source": [
    "For this task, I have to calculate the first 100 prime numbers using two different algorithms.<br>\n",
    "Any algorithms that are well-established and works correctly are okay to use.<br>\n",
    "I then have to explain how the algorithms work."
   ]
  },
  {
   "cell_type": "markdown",
   "metadata": {},
   "source": [
    "# Task 5: Roots"
   ]
  },
  {
   "cell_type": "markdown",
   "metadata": {},
   "source": [
    "For this task, I have to calculate the first 32 bits of the fractional part of the square roots of the first 100 prime numbers."
   ]
  },
  {
   "cell_type": "markdown",
   "metadata": {},
   "source": [
    "# Task 6: Proof of Work"
   ]
  },
  {
   "cell_type": "markdown",
   "metadata": {},
   "source": [
    "For this task, I have to find the word(s) in the English language with the greatest number of 0 bits at the beginning of their SHA256 hash digest.<br>\n",
    "I have to include proof that any word listed is in at least one English dictionary."
   ]
  },
  {
   "cell_type": "markdown",
   "metadata": {},
   "source": [
    "# Task 7: Turing Machines"
   ]
  },
  {
   "cell_type": "markdown",
   "metadata": {},
   "source": [
    "For this task, I have to design a Turing Machine that adds 1 to a binary number on its tape.<br>\n",
    "The machine should start at the left-most non-blank symbol.<br>\n",
    "It should treat the right-most symbol as the least significant bit.\n",
    "\n",
    "For example, suppose the following is on the tape at the start:\n",
    "\n",
    "100111\n",
    "\n",
    "Your Turing machine should leave the following on the tape when it completes:\n",
    "\n",
    "101000"
   ]
  },
  {
   "cell_type": "markdown",
   "metadata": {},
   "source": [
    "# Task 8: Computational Complexity"
   ]
  },
  {
   "cell_type": "markdown",
   "metadata": {},
   "source": [
    "For this task, I have to implement bubble sort in Python, modifying it to count the number of comparisons made during sorting.<br>\n",
    "I must use this function to sort all permutations of the list:\n",
    "\n",
    "L = [1, 2, 3, 4, 5]\n",
    "\n",
    "For each permutation, I have to print the permutation itself followed by the number of comparisons required to sort it."
   ]
  }
 ],
 "metadata": {
  "kernelspec": {
   "display_name": "Python 3",
   "language": "python",
   "name": "python3"
  },
  "language_info": {
   "codemirror_mode": {
    "name": "ipython",
    "version": 3
   },
   "file_extension": ".py",
   "mimetype": "text/x-python",
   "name": "python",
   "nbconvert_exporter": "python",
   "pygments_lexer": "ipython3",
   "version": "3.12.1"
  }
 },
 "nbformat": 4,
 "nbformat_minor": 2
}
